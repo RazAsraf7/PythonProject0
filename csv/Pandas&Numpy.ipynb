{
 "cells": [
  {
   "cell_type": "markdown",
   "metadata": {},
   "source": [
    "What is Pandas Libray in Python?\n",
    "Pandas is a powerful and versatile library that simplifies the tasks of data manipulation in Python.Pandas is a popular Python library for data manipulation and analysis. It provides data structures and functions for efficiently handling and analyzing structured data, primarily in the form of tables or DataFrames. Pandas is widely used in data science, data analysis, and data preprocessing tasks.\n",
    "\n",
    "Managing Data with Pandas:\n",
    "Pandas simplifies data management in Python through its core data structures:\n",
    "\n",
    "1. DataFrame: A two-dimensional table-like data structure with rows and columns. It is similar to a spreadsheet or SQL table.\n",
    "2. Series: A one-dimensional array-like data structure representing a single column or row of data in a DataFrame.\n",
    "\n",
    "Data Reading in Pandas:\n",
    "Pandas supports various file formats for reading and writing data, such as CSV, Excel, SQL databases, JSON, and more. Here’s an example of reading data from a CSV file:\n",
    "\n"
   ]
  },
  {
   "cell_type": "markdown",
   "metadata": {},
   "source": [
    "CSV file: Definition\n",
    "A CSV (comma-separated values) file is a text file that has a specific format which allows data to be saved in a table structured format.\n",
    "\n"
   ]
  },
  {
   "cell_type": "code",
   "execution_count": 4,
   "metadata": {},
   "outputs": [
    {
     "data": {
      "text/html": [
       "<div>\n",
       "<style scoped>\n",
       "    .dataframe tbody tr th:only-of-type {\n",
       "        vertical-align: middle;\n",
       "    }\n",
       "\n",
       "    .dataframe tbody tr th {\n",
       "        vertical-align: top;\n",
       "    }\n",
       "\n",
       "    .dataframe thead th {\n",
       "        text-align: right;\n",
       "    }\n",
       "</style>\n",
       "<table border=\"1\" class=\"dataframe\">\n",
       "  <thead>\n",
       "    <tr style=\"text-align: right;\">\n",
       "      <th></th>\n",
       "      <th>PassengerId</th>\n",
       "      <th>Survived</th>\n",
       "      <th>Pclass</th>\n",
       "      <th>Age</th>\n",
       "      <th>SibSp</th>\n",
       "      <th>Parch</th>\n",
       "      <th>Fare</th>\n",
       "    </tr>\n",
       "  </thead>\n",
       "  <tbody>\n",
       "    <tr>\n",
       "      <th>count</th>\n",
       "      <td>891.000000</td>\n",
       "      <td>891.000000</td>\n",
       "      <td>891.000000</td>\n",
       "      <td>714.000000</td>\n",
       "      <td>891.000000</td>\n",
       "      <td>891.000000</td>\n",
       "      <td>891.000000</td>\n",
       "    </tr>\n",
       "    <tr>\n",
       "      <th>mean</th>\n",
       "      <td>446.000000</td>\n",
       "      <td>0.383838</td>\n",
       "      <td>2.308642</td>\n",
       "      <td>29.699118</td>\n",
       "      <td>0.523008</td>\n",
       "      <td>0.381594</td>\n",
       "      <td>32.204208</td>\n",
       "    </tr>\n",
       "    <tr>\n",
       "      <th>std</th>\n",
       "      <td>257.353842</td>\n",
       "      <td>0.486592</td>\n",
       "      <td>0.836071</td>\n",
       "      <td>14.526497</td>\n",
       "      <td>1.102743</td>\n",
       "      <td>0.806057</td>\n",
       "      <td>49.693429</td>\n",
       "    </tr>\n",
       "    <tr>\n",
       "      <th>min</th>\n",
       "      <td>1.000000</td>\n",
       "      <td>0.000000</td>\n",
       "      <td>1.000000</td>\n",
       "      <td>0.420000</td>\n",
       "      <td>0.000000</td>\n",
       "      <td>0.000000</td>\n",
       "      <td>0.000000</td>\n",
       "    </tr>\n",
       "    <tr>\n",
       "      <th>25%</th>\n",
       "      <td>223.500000</td>\n",
       "      <td>0.000000</td>\n",
       "      <td>2.000000</td>\n",
       "      <td>20.125000</td>\n",
       "      <td>0.000000</td>\n",
       "      <td>0.000000</td>\n",
       "      <td>7.910400</td>\n",
       "    </tr>\n",
       "    <tr>\n",
       "      <th>50%</th>\n",
       "      <td>446.000000</td>\n",
       "      <td>0.000000</td>\n",
       "      <td>3.000000</td>\n",
       "      <td>28.000000</td>\n",
       "      <td>0.000000</td>\n",
       "      <td>0.000000</td>\n",
       "      <td>14.454200</td>\n",
       "    </tr>\n",
       "    <tr>\n",
       "      <th>75%</th>\n",
       "      <td>668.500000</td>\n",
       "      <td>1.000000</td>\n",
       "      <td>3.000000</td>\n",
       "      <td>38.000000</td>\n",
       "      <td>1.000000</td>\n",
       "      <td>0.000000</td>\n",
       "      <td>31.000000</td>\n",
       "    </tr>\n",
       "    <tr>\n",
       "      <th>max</th>\n",
       "      <td>891.000000</td>\n",
       "      <td>1.000000</td>\n",
       "      <td>3.000000</td>\n",
       "      <td>80.000000</td>\n",
       "      <td>8.000000</td>\n",
       "      <td>6.000000</td>\n",
       "      <td>512.329200</td>\n",
       "    </tr>\n",
       "  </tbody>\n",
       "</table>\n",
       "</div>"
      ],
      "text/plain": [
       "       PassengerId    Survived      Pclass         Age       SibSp  \\\n",
       "count   891.000000  891.000000  891.000000  714.000000  891.000000   \n",
       "mean    446.000000    0.383838    2.308642   29.699118    0.523008   \n",
       "std     257.353842    0.486592    0.836071   14.526497    1.102743   \n",
       "min       1.000000    0.000000    1.000000    0.420000    0.000000   \n",
       "25%     223.500000    0.000000    2.000000   20.125000    0.000000   \n",
       "50%     446.000000    0.000000    3.000000   28.000000    0.000000   \n",
       "75%     668.500000    1.000000    3.000000   38.000000    1.000000   \n",
       "max     891.000000    1.000000    3.000000   80.000000    8.000000   \n",
       "\n",
       "            Parch        Fare  \n",
       "count  891.000000  891.000000  \n",
       "mean     0.381594   32.204208  \n",
       "std      0.806057   49.693429  \n",
       "min      0.000000    0.000000  \n",
       "25%      0.000000    7.910400  \n",
       "50%      0.000000   14.454200  \n",
       "75%      0.000000   31.000000  \n",
       "max      6.000000  512.329200  "
      ]
     },
     "execution_count": 4,
     "metadata": {},
     "output_type": "execute_result"
    }
   ],
   "source": [
    "import pandas as pd\n",
    "\n",
    "df=pd.read_csv('titanic.csv')\n",
    "# df.head()\n",
    "# df.tail()\n",
    "\n",
    "df.describe()\n",
    "\n"
   ]
  },
  {
   "cell_type": "markdown",
   "metadata": {},
   "source": [
    "What is a Series?\n",
    "A Pandas Series is like a column in a table.\n",
    "\n",
    "It is a one-dimensional array holding data of any type."
   ]
  },
  {
   "cell_type": "code",
   "execution_count": 6,
   "metadata": {},
   "outputs": [
    {
     "data": {
      "text/plain": [
       "pandas.core.series.Series"
      ]
     },
     "execution_count": 6,
     "metadata": {},
     "output_type": "execute_result"
    }
   ],
   "source": [
    "passengerid=df['Sex']\n",
    "type(passengerid)\n",
    "\n",
    "# passengerid\n",
    "# passengerid.head()\n",
    "# df.tail()\n",
    "\n",
    "# passengerid.describe()"
   ]
  },
  {
   "cell_type": "markdown",
   "metadata": {},
   "source": [
    "Basic Operations\n",
    "Pandas provides a wide range of operations for data manipulation:\n",
    "\n",
    "Selecting Data\n",
    "You can select specific columns from your DataFrame like this:"
   ]
  },
  {
   "cell_type": "code",
   "execution_count": 8,
   "metadata": {},
   "outputs": [
    {
     "data": {
      "text/plain": [
       "0    1\n",
       "1    2\n",
       "2    3\n",
       "3    4\n",
       "4    5\n",
       "Name: PassengerId, dtype: int64"
      ]
     },
     "execution_count": 8,
     "metadata": {},
     "output_type": "execute_result"
    }
   ],
   "source": [
    "# Select the 'Name' column\n",
    "names = df['PassengerId']\n",
    "names.head()\n",
    "# print(names)\n"
   ]
  },
  {
   "cell_type": "markdown",
   "metadata": {},
   "source": [
    "***Filtering Data***\n",
    "You can filter your data based on specific conditions:"
   ]
  },
  {
   "cell_type": "code",
   "execution_count": 26,
   "metadata": {},
   "outputs": [
    {
     "name": "stdout",
     "output_type": "stream",
     "text": [
      "7                Palsson, Master. Gosta Leonard\n",
      "10              Sandstrom, Miss. Marguerite Rut\n",
      "16                         Rice, Master. Eugene\n",
      "24                Palsson, Miss. Torborg Danira\n",
      "43     Laroche, Miss. Simonne Marie Anne Andree\n",
      "                         ...                   \n",
      "827                       Mallet, Master. Andre\n",
      "831             Richards, Master. George Sibley\n",
      "850     Andersson, Master. Sigvard Harald Elias\n",
      "852                     Boulos, Miss. Nourelain\n",
      "869             Johnson, Master. Harold Theodor\n",
      "Name: Name, Length: 62, dtype: object\n"
     ]
    }
   ],
   "source": [
    "# Select individuals older than 28\n",
    "filtered_data = df[df['Age']<10]['Name'].reset_index()\n",
    "print(filtered_data)"
   ]
  },
  {
   "cell_type": "code",
   "execution_count": 15,
   "metadata": {},
   "outputs": [
    {
     "name": "stdout",
     "output_type": "stream",
     "text": [
      "     PassengerId  Survived  Pclass                            Name   Sex  \\\n",
      "0              1         0       3         Braund, Mr. Owen Harris  male   \n",
      "4              5         0       3        Allen, Mr. William Henry  male   \n",
      "5              6         0       3                Moran, Mr. James  male   \n",
      "6              7         0       1         McCarthy, Mr. Timothy J  male   \n",
      "7              8         0       3  Palsson, Master. Gosta Leonard  male   \n",
      "..           ...       ...     ...                             ...   ...   \n",
      "881          882         0       3              Markun, Mr. Johann  male   \n",
      "883          884         0       2   Banfield, Mr. Frederick James  male   \n",
      "884          885         0       3          Sutehall, Mr. Henry Jr  male   \n",
      "886          887         0       2           Montvila, Rev. Juozas  male   \n",
      "890          891         0       3             Dooley, Mr. Patrick  male   \n",
      "\n",
      "      Age  SibSp  Parch            Ticket     Fare Cabin Embarked  \n",
      "0    22.0      1      0         A/5 21171   7.2500   NaN        S  \n",
      "4    35.0      0      0            373450   8.0500   NaN        S  \n",
      "5     NaN      0      0            330877   8.4583   NaN        Q  \n",
      "6    54.0      0      0             17463  51.8625   E46        S  \n",
      "7     2.0      3      1            349909  21.0750   NaN        S  \n",
      "..    ...    ...    ...               ...      ...   ...      ...  \n",
      "881  33.0      0      0            349257   7.8958   NaN        S  \n",
      "883  28.0      0      0  C.A./SOTON 34068  10.5000   NaN        S  \n",
      "884  25.0      0      0   SOTON/OQ 392076   7.0500   NaN        S  \n",
      "886  27.0      0      0            211536  13.0000   NaN        S  \n",
      "890  32.0      0      0            370376   7.7500   NaN        Q  \n",
      "\n",
      "[468 rows x 12 columns]\n"
     ]
    }
   ],
   "source": [
    "df_su = df[(df['Survived'] == 0)&(df['Sex'] == 'male')]\n",
    "# df_su = df[(df['Sex'] == 'male')]\n",
    "# df_su.shape[0]\n",
    "print(df_su)\n"
   ]
  },
  {
   "cell_type": "markdown",
   "metadata": {},
   "source": [
    "***Grouping Data***\n",
    "Pandas makes it easy to group and aggregate data:"
   ]
  },
  {
   "cell_type": "code",
   "execution_count": 23,
   "metadata": {},
   "outputs": [
    {
     "name": "stdout",
     "output_type": "stream",
     "text": [
      "80.0\n",
      "29.69911764705882\n"
     ]
    }
   ],
   "source": [
    "# Group by age and calculate the average\n",
    "grouped_data_sum = df['Age'].max()\n",
    "print(grouped_data_sum)\n",
    "grouped_data_mean = df['Age'].mean()\n",
    "print(grouped_data_mean)\n"
   ]
  },
  {
   "cell_type": "markdown",
   "metadata": {},
   "source": [
    "***Data Cleaning***\n"
   ]
  },
  {
   "cell_type": "code",
   "execution_count": null,
   "metadata": {},
   "outputs": [],
   "source": [
    "# Handling missing values\n",
    "df.dropna()  # Remove rows with missing values\n",
    "df.fillna(0)  # Replace missing values with zeros\n",
    "# Removing duplicates\n",
    "df.drop_duplicates()"
   ]
  },
  {
   "cell_type": "markdown",
   "metadata": {},
   "source": [
    "Understanding data using .info()\n",
    "The .info() method is a quick way to look at the data types, missing values, and data size of a DataFrame. Here, we’re setting the show_counts argument to True, which gives a few over the total non-missing values in each column. We’re also setting memory_usage to True, which shows the total memory usage of the DataFrame elements. When verbose is set to True, it prints the full summary from .info(). "
   ]
  },
  {
   "cell_type": "code",
   "execution_count": null,
   "metadata": {},
   "outputs": [],
   "source": [
    "df.info(show_counts=True, memory_usage=True, verbose=True)"
   ]
  },
  {
   "cell_type": "markdown",
   "metadata": {},
   "source": [
    "Understanding your data using .shape\n",
    "The number of rows and columns of a DataFrame can be identified using the .shape attribute of the DataFrame. It returns a tuple (row, column) and can be indexed to get only rows, and only columns count as output."
   ]
  },
  {
   "cell_type": "code",
   "execution_count": 20,
   "metadata": {},
   "outputs": [
    {
     "data": {
      "text/plain": [
       "(891, 12)"
      ]
     },
     "execution_count": 20,
     "metadata": {},
     "output_type": "execute_result"
    }
   ],
   "source": [
    "df.shape # Get the number of rows and columns\n",
    "# df.shape[0] # Get the number of rows only\n",
    "# df.shape[1] # Get the number of columns only"
   ]
  },
  {
   "cell_type": "markdown",
   "metadata": {},
   "source": [
    "Get all columns and column names\n",
    "Calling the .columns attribute of a DataFrame object returns the column names in the form of an Index object. As a reminder, a pandas index is the address/label of the row or column."
   ]
  },
  {
   "cell_type": "code",
   "execution_count": 25,
   "metadata": {},
   "outputs": [
    {
     "data": {
      "text/plain": [
       "['PassengerId',\n",
       " 'Survived',\n",
       " 'Pclass',\n",
       " 'Name',\n",
       " 'Sex',\n",
       " 'Age',\n",
       " 'SibSp',\n",
       " 'Parch',\n",
       " 'Ticket',\n",
       " 'Fare',\n",
       " 'Cabin',\n",
       " 'Embarked']"
      ]
     },
     "execution_count": 25,
     "metadata": {},
     "output_type": "execute_result"
    }
   ],
   "source": [
    "df.columns\n",
    "#it can be converted to a list using a list() function.\n",
    "l=list(df.columns)"
   ]
  },
  {
   "cell_type": "markdown",
   "metadata": {},
   "source": [
    "You can fetch specific rows by labels or conditions using .loc[] and .iloc[] (\"location\" and \"integer location\"). .loc[] uses a label to point to a row, column or cell, whereas .iloc[] uses the numeric position. To understand the difference between the two, let’s modify the index of df2 created earlier.\n"
   ]
  },
  {
   "cell_type": "code",
   "execution_count": 27,
   "metadata": {},
   "outputs": [
    {
     "name": "stdout",
     "output_type": "stream",
     "text": [
      "PassengerId                                                    2\n",
      "Survived                                                       1\n",
      "Pclass                                                         1\n",
      "Name           Cumings, Mrs. John Bradley (Florence Briggs Th...\n",
      "Sex                                                       female\n",
      "Age                                                         38.0\n",
      "SibSp                                                          1\n",
      "Parch                                                          0\n",
      "Ticket                                                  PC 17599\n",
      "Fare                                                     71.2833\n",
      "Cabin                                                        C85\n",
      "Embarked                                                       C\n",
      "Name: 1, dtype: object\n"
     ]
    }
   ],
   "source": [
    "\"\"\"\n",
    "The below example returns a pandas Series instead of a DataFrame.\n",
    " The 1 represents the row index (label), whereas the 1 in .\n",
    " iloc[] is the row position (first row).\n",
    "\"\"\"\n",
    "# df.loc[1]\n",
    "print(df.iloc[1])\n",
    "df.loc[df['Age']==1, ['Age']] = 80"
   ]
  },
  {
   "cell_type": "code",
   "execution_count": 28,
   "metadata": {},
   "outputs": [
    {
     "name": "stdout",
     "output_type": "stream",
     "text": [
      "      PassengerId  Survived  Pclass  Name  Age  SibSp  Parch  Ticket  Fare  \\\n",
      "Sex                                                                          \n",
      "male          109       109     109   109  109    109    109     109   109   \n",
      "\n",
      "      Cabin  Embarked  \n",
      "Sex                    \n",
      "male    109       109  \n",
      "     PassengerId  Survived  Pclass  \\\n",
      "17            18         1       2   \n",
      "839          840         1       1   \n",
      "828          829         1       3   \n",
      "740          741         1       1   \n",
      "709          710         1       3   \n",
      "..           ...       ...     ...   \n",
      "449          450         1       1   \n",
      "647          648         1       1   \n",
      "587          588         1       1   \n",
      "570          571         1       2   \n",
      "630          631         1       1   \n",
      "\n",
      "                                                  Name   Sex   Age  SibSp  \\\n",
      "17                        Williams, Mr. Charles Eugene  male   0.0      0   \n",
      "839                               Marechal, Mr. Pierre  male   0.0      0   \n",
      "828                       McCormack, Mr. Thomas Joseph  male   0.0      0   \n",
      "740                        Hawksford, Mr. Walter James  male   0.0      0   \n",
      "709  Moubarek, Master. Halim Gonios (\"William George\")  male   0.0      1   \n",
      "..                                                 ...   ...   ...    ...   \n",
      "449                     Peuchen, Major. Arthur Godfrey  male  52.0      0   \n",
      "647                Simonius-Blumer, Col. Oberst Alfons  male  56.0      0   \n",
      "587                   Frolicher-Stehli, Mr. Maxmillian  male  60.0      1   \n",
      "570                                 Harris, Mr. George  male  62.0      0   \n",
      "630               Barkworth, Mr. Algernon Henry Wilson  male  80.0      0   \n",
      "\n",
      "     Parch       Ticket     Fare Cabin Embarked  \n",
      "17       0       244373  13.0000     0        S  \n",
      "839      0        11774  29.7000   C47        C  \n",
      "828      0       367228   7.7500     0        Q  \n",
      "740      0        16988  30.0000   D45        S  \n",
      "709      1         2661  15.2458     0        C  \n",
      "..     ...          ...      ...   ...      ...  \n",
      "449      0       113786  30.5000  C104        S  \n",
      "647      0        13213  35.5000   A26        C  \n",
      "587      1        13567  79.2000   B41        C  \n",
      "570      0  S.W./PP 752  10.5000     0        S  \n",
      "630      0        27042  30.0000   A23        S  \n",
      "\n",
      "[109 rows x 12 columns]\n"
     ]
    }
   ],
   "source": [
    "import pandas as pd\n",
    "\n",
    "df = pd.read_csv('titanic.csv')\n",
    "# print(df.head(10))\n",
    "# print(df.describe())\n",
    "\n",
    "# df.dropna()  # Remove rows with missing values\n",
    "df=df.fillna(0)  # Replace missing values with zeros\n",
    "\n",
    "age=df['Sex']\n",
    "# print(type(age))\n",
    "# print(age)\n",
    "\n",
    "df_su = df[(df['Survived'] == 1)&(df['Sex'] == 'male')].sort_values(by='Age', ascending=True)\n",
    "\n",
    "age=df_su.groupby('Sex').count()\n",
    "# print(age)\n",
    "# # print(df.shape[0])\n",
    "print(df_su)\n",
    "\n"
   ]
  }
 ],
 "metadata": {
  "kernelspec": {
   "display_name": "Python 3",
   "language": "python",
   "name": "python3"
  },
  "language_info": {
   "codemirror_mode": {
    "name": "ipython",
    "version": 3
   },
   "file_extension": ".py",
   "mimetype": "text/x-python",
   "name": "python",
   "nbconvert_exporter": "python",
   "pygments_lexer": "ipython3",
   "version": "3.11.5"
  }
 },
 "nbformat": 4,
 "nbformat_minor": 2
}
