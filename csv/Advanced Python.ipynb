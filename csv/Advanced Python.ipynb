{
 "cells": [
  {
   "cell_type": "markdown",
   "metadata": {},
   "source": [
    "A lambda function is a small anonymous function.\n",
    "Python Lambda Functions are anonymous functions means that the function is without a name. As we already know the def keyword is used to define a normal function in Python. Similarly, the lambda keyword is used to define an anonymous function in Python. \n",
    "\n",
    "A lambda function can take any number of arguments, but can only have one expression.\n",
    "\n",
    "Syntax\n",
    "lambda arguments : expression\n",
    "\n",
    "The expression is executed and the result is returned:\n",
    "\n"
   ]
  },
  {
   "cell_type": "code",
   "execution_count": 18,
   "metadata": {},
   "outputs": [
    {
     "name": "stdout",
     "output_type": "stream",
     "text": [
      "15\n",
      "30\n",
      "13\n"
     ]
    }
   ],
   "source": [
    "#1\n",
    "x = lambda a : a + 10\n",
    "print(x(5))\n",
    "\n",
    "#2\n",
    "x = lambda a, b : a * b\n",
    "print(x(5, 6))\n",
    "\n",
    "#3\n",
    "x = lambda a, b, c : a + b + c\n",
    "print(x(5, 6, 2))\n",
    "\n"
   ]
  },
  {
   "cell_type": "markdown",
   "metadata": {},
   "source": [
    "Why Use Lambda Functions?\n",
    "The power of lambda is better shown when you use them as an anonymous function inside another function.\n",
    "\n",
    "Use lambda functions when an anonymous function is required for a short period of time.\n",
    "\n",
    "Say you have a function definition that takes one argument, and that argument will be multiplied with an unknown number"
   ]
  },
  {
   "cell_type": "code",
   "execution_count": 30,
   "metadata": {},
   "outputs": [
    {
     "name": "stdout",
     "output_type": "stream",
     "text": [
      "<class 'function'>\n",
      "100\n",
      "22\n",
      "33\n",
      "<class 'function'>\n",
      "15\n",
      "<class 'function'>\n",
      "9\n",
      "<class 'function'>\n",
      "True\n",
      "<class 'function'>\n",
      "Hello!\n",
      "<class 'function'>\n",
      "[12, 18]\n"
     ]
    }
   ],
   "source": [
    "def myfunc(n):\n",
    "  return lambda a : a * n\n",
    "\n",
    "mydoubler = myfunc(5)\n",
    "print(type(mydoubler))\n",
    "print(mydoubler(20))\n",
    "\n",
    "\n",
    "#2\n",
    "mydoubler = myfunc(2)\n",
    "mytripler = myfunc(3)\n",
    "\n",
    "print(mydoubler(11))\n",
    "print(mytripler(11))\n",
    "\n",
    "#3\n",
    "def make_incrementer(n):\n",
    "    return lambda a: a + n\n",
    "\n",
    "increment_by_10 = make_incrementer(10)\n",
    "print(type(increment_by_10))\n",
    "print(increment_by_10(5))  # Output: 15\n",
    "\n",
    "#4\n",
    "def make_exponentiator(n):\n",
    "    return lambda a: a ** n\n",
    "\n",
    "square = make_exponentiator(2)\n",
    "print(type(square))\n",
    "print(square(3))  # Output: 9\n",
    "\n",
    "#5\n",
    "def make_divisibility_checker(n):\n",
    "    return lambda a: a % n == 0\n",
    "\n",
    "is_divisible_by_3 = make_divisibility_checker(3)\n",
    "print(type(is_divisible_by_3))\n",
    "print(is_divisible_by_3(9))  # Output: True\n",
    "\n",
    "#6\n",
    "def make_concatenator(suffix):\n",
    "    return lambda s: s + suffix\n",
    "\n",
    "add_exclamation = make_concatenator(\"!\")\n",
    "print(type(add_exclamation))\n",
    "print(add_exclamation(\"Hello\"))  # Output: Hello!\n",
    "\n",
    "#6\n",
    "def make_filter(threshold):\n",
    "    return lambda lst: [x for x in lst if x > threshold]\n",
    "\n",
    "filter_greater_than_10 = make_filter(10)\n",
    "print(type(filter_greater_than_10))\n",
    "print(filter_greater_than_10([5, 12, 7, 18, 2]))  # Output: [12, 18]\n"
   ]
  },
  {
   "cell_type": "code",
   "execution_count": 20,
   "metadata": {},
   "outputs": [
    {
     "name": "stdout",
     "output_type": "stream",
     "text": [
      "HELLO WORLD\n"
     ]
    }
   ],
   "source": [
    "#5\n",
    "str1 = 'hello world'\n",
    " \n",
    "upper = lambda string: string.upper()\n",
    "print(upper(str1))"
   ]
  },
  {
   "cell_type": "markdown",
   "metadata": {},
   "source": [
    "Difference Between Lambda functions and def defined function\n",
    "The code defines a cube function using both the ‘def' keyword and a lambda function. It calculates the cube of a given number (5 in this case) using both approaches and prints the results. The output is 125 for both the ‘def' and lambda functions, demonstrating that they achieve the same cube calculation."
   ]
  },
  {
   "cell_type": "code",
   "execution_count": 21,
   "metadata": {},
   "outputs": [
    {
     "name": "stdout",
     "output_type": "stream",
     "text": [
      "Using function defined with `def` keyword, cube: 125\n",
      "Using lambda function, cube: 125\n"
     ]
    }
   ],
   "source": [
    "def cube(y):\n",
    "    return y*y*y\n",
    " \n",
    "lambda_cube = lambda y: y*y*y\n",
    "print(\"Using function defined with `def` keyword, cube:\", cube(5))\n",
    "print(\"Using lambda function, cube:\", lambda_cube(5))"
   ]
  },
  {
   "cell_type": "markdown",
   "metadata": {},
   "source": [
    "Practical Uses of Python lambda function:\n",
    "\n",
    "Python Lambda Function with List Comprehension\n",
    "\n",
    "On each iteration inside the list comprehension, we are creating a new lambda function with a default argument of x (where x is the current item in the iteration). Later, inside the for loop, we are calling the same function object having the default argument using item() and get the desired value. Thus, is_even_list stores the list of lambda function objects."
   ]
  },
  {
   "cell_type": "code",
   "execution_count": 28,
   "metadata": {},
   "outputs": [
    {
     "name": "stdout",
     "output_type": "stream",
     "text": [
      "False\n",
      "True\n",
      "False\n",
      "True\n"
     ]
    }
   ],
   "source": [
    "#1\n",
    "is_even_list = [lambda arg=x: arg * 10 for x in range(1, 5)]\n",
    "for item in is_even_list:\n",
    "    print(item())\n",
    "#2\n",
    "increment_list = [lambda arg=x: arg + 5 for x in range(1, 5)]\n",
    "for func in increment_list:\n",
    "    print(func())\n",
    "#3\n",
    "square_list = [lambda arg=x: arg ** 2 for x in range(1, 5)]\n",
    "for func in square_list:\n",
    "    print(func())\n",
    "#4\n",
    "is_even_list = [lambda arg=x: arg % 2 == 0 for x in range(1, 5)]\n",
    "for func in is_even_list:\n",
    "    print(func())\n",
    "#5\n",
    "to_string_list = [lambda arg=x: str(arg) for x in range(1, 5)]\n",
    "for func in to_string_list:\n",
    "    print(func())\n",
    "\n",
    "\n"
   ]
  },
  {
   "cell_type": "markdown",
   "metadata": {},
   "source": [
    "Python Lambda Function with if-else\n",
    "Here we are using the Max lambda function to find the maximum of two integers."
   ]
  },
  {
   "cell_type": "code",
   "execution_count": 24,
   "metadata": {},
   "outputs": [
    {
     "name": "stdout",
     "output_type": "stream",
     "text": [
      "2\n"
     ]
    }
   ],
   "source": [
    "Max = lambda a, b : a if(a > b) else b\n",
    "print(Max(1, 2))"
   ]
  },
  {
   "cell_type": "markdown",
   "metadata": {},
   "source": [
    "***filter() in python***\n",
    "\n",
    "The filter() method filters the given sequence with the help of a function that tests each element in the sequence to be true or not. \n",
    "\n",
    "Python filter() Syntax\n",
    "The filter() method in Python has the following syntax\n",
    "\n",
    "Syntax: filter(function, sequence)\n",
    "\n",
    "\n"
   ]
  },
  {
   "cell_type": "code",
   "execution_count": 37,
   "metadata": {},
   "outputs": [
    {
     "name": "stdout",
     "output_type": "stream",
     "text": [
      "The filtered letters are:\n",
      "e\n",
      "e\n",
      "The even numbers are:\n",
      "2\n",
      "4\n",
      "6\n",
      "8\n",
      "10\n",
      "The positive numbers are:\n",
      "3\n",
      "7\n",
      "2\n",
      "9\n",
      "The long strings are:\n",
      "hello\n",
      "good\n",
      "night\n",
      "The alphabetic characters are:\n",
      "a\n",
      "b\n",
      "c\n"
     ]
    }
   ],
   "source": [
    "def fun(variable):\n",
    "    letters = ['a', 'e', 'i', 'o', 'u']\n",
    "    if (variable in letters):\n",
    "        return True\n",
    "    else:\n",
    "        return False\n",
    " \n",
    " \n",
    "# sequence\n",
    "sequence = ['g', 'e', 'e', 'j', 'k', 's', 'p', 'r']\n",
    " \n",
    "# using filter function\n",
    "filtered = filter(fun, sequence)\n",
    " \n",
    "print('The filtered letters are:')\n",
    "for s in filtered:\n",
    "    print(s)\n",
    "\n",
    "#2\n",
    "def is_even(number):\n",
    "    return number % 2 == 0\n",
    "\n",
    "# sequence\n",
    "numbers = [1, 2, 3, 4, 5, 6, 7, 8, 9, 10]\n",
    "\n",
    "# using filter function\n",
    "even_numbers = filter(is_even, numbers)\n",
    "\n",
    "print('The even numbers are:')\n",
    "for num in even_numbers:\n",
    "    print(num)\n",
    "\n",
    "#3\n",
    "def is_positive(number):\n",
    "    return number > 0\n",
    "\n",
    "# sequence\n",
    "numbers = [-5, -2, 0, 3, 7, -1, 2, 9]\n",
    "\n",
    "# using filter function\n",
    "positive_numbers = filter(is_positive, numbers)\n",
    "\n",
    "print('The positive numbers are:')\n",
    "for num in positive_numbers:\n",
    "    print(num)\n",
    "\n",
    "#4\n",
    "def is_long_string(s):\n",
    "    return len(s) > 3\n",
    "\n",
    "# sequence\n",
    "strings = ['hi', 'hello', 'bye', 'good', 'day', 'night']\n",
    "\n",
    "# using filter function\n",
    "long_strings = filter(is_long_string, strings)\n",
    "\n",
    "print('The long strings are:')\n",
    "for s in long_strings:\n",
    "    print(s)\n",
    "\n",
    "#5\n",
    "def is_alphabetic(character):\n",
    "    return character.isalpha()\n",
    "\n",
    "# sequence\n",
    "chars = ['a', '1', 'b', '2', '@', 'c', '3']\n",
    "\n",
    "# using filter function\n",
    "alphabetic_chars = filter(is_alphabetic, chars)\n",
    "\n",
    "print('The alphabetic characters are:')\n",
    "for char in alphabetic_chars:\n",
    "    print(char)\n",
    "\n"
   ]
  },
  {
   "cell_type": "code",
   "execution_count": 35,
   "metadata": {},
   "outputs": [
    {
     "name": "stdout",
     "output_type": "stream",
     "text": [
      "[1, 3, 5, 13]\n",
      "[0, 2, 8]\n"
     ]
    }
   ],
   "source": [
    "# a list contains both even and odd numbers. \n",
    "seq = [0, 1, 2, 3, 5, 8, 13]\n",
    " \n",
    "# result contains odd numbers of the list\n",
    "result = filter(lambda x: x % 2 != 0, seq)\n",
    "# print(type(result))\n",
    "print(list(result))\n",
    " \n",
    "# result contains even numbers of the list\n",
    "result = filter(lambda x: x % 2 == 0, seq)\n",
    "print(list(result))"
   ]
  },
  {
   "cell_type": "code",
   "execution_count": 36,
   "metadata": {},
   "outputs": [
    {
     "name": "stdout",
     "output_type": "stream",
     "text": [
      "[3, 6, 9]\n"
     ]
    }
   ],
   "source": [
    "# Define a function to check \n",
    "# if a number is a multiple of 3\n",
    "def is_multiple_of_3(num):\n",
    "    return num % 3 == 0\n",
    " \n",
    " \n",
    "# Create a list of numbers to filter\n",
    "numbers = [1, 2, 3, 4, 5, 6, 7, 8, 9, 10]\n",
    " \n",
    "# Use filter and a lambda function to\n",
    "# filter the list of numbers and only\n",
    "# keep the ones that are multiples of 3\n",
    "result = list(filter(lambda x: is_multiple_of_3(x), numbers))\n",
    " \n",
    "# Print the result\n",
    "print(result)"
   ]
  }
 ],
 "metadata": {
  "kernelspec": {
   "display_name": "base",
   "language": "python",
   "name": "python3"
  },
  "language_info": {
   "codemirror_mode": {
    "name": "ipython",
    "version": 3
   },
   "file_extension": ".py",
   "mimetype": "text/x-python",
   "name": "python",
   "nbconvert_exporter": "python",
   "pygments_lexer": "ipython3",
   "version": "3.11.5"
  }
 },
 "nbformat": 4,
 "nbformat_minor": 2
}
